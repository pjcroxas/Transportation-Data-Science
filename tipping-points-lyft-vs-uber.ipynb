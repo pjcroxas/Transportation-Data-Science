{
 "cells": [
  {
   "cell_type": "code",
   "execution_count": 1,
   "id": "d7103ece",
   "metadata": {
    "_cell_guid": "b1076dfc-b9ad-4769-8c92-a6c4dae69d19",
    "_uuid": "8f2839f25d086af736a60e9eeb907d3b93b6e0e5",
    "execution": {
     "iopub.execute_input": "2025-03-22T11:02:14.299395Z",
     "iopub.status.busy": "2025-03-22T11:02:14.298834Z",
     "iopub.status.idle": "2025-03-22T11:02:16.118443Z",
     "shell.execute_reply": "2025-03-22T11:02:16.116967Z"
    },
    "papermill": {
     "duration": 1.829358,
     "end_time": "2025-03-22T11:02:16.120853",
     "exception": false,
     "start_time": "2025-03-22T11:02:14.291495",
     "status": "completed"
    },
    "tags": []
   },
   "outputs": [
    {
     "name": "stdout",
     "output_type": "stream",
     "text": [
      "/kaggle/input/uber-lyft-cab-prices/cab_rides.csv\n",
      "/kaggle/input/uber-lyft-cab-prices/weather.csv\n",
      "/kaggle/input/uber-lyft-cab-prices/Cab-Weather Data/Cab-Weather Data/cab_rides.txt\n",
      "/kaggle/input/uber-lyft-cab-prices/Cab-Weather Data/Cab-Weather Data/weather.txt\n",
      "/kaggle/input/uber-lyft-cab-prices/cab-weather data/Cab-Weather Data/cab_rides.txt\n",
      "/kaggle/input/uber-lyft-cab-prices/cab-weather data/Cab-Weather Data/weather.txt\n"
     ]
    }
   ],
   "source": [
    "# This Python 3 environment comes with many helpful analytics libraries installed\n",
    "# It is defined by the kaggle/python Docker image: https://github.com/kaggle/docker-python\n",
    "# For example, here's several helpful packages to load\n",
    "\n",
    "import numpy as np # linear algebra\n",
    "import pandas as pd # data processing, CSV file I/O (e.g. pd.read_csv)\n",
    "import plotly.express as px\n",
    "import warnings\n",
    "warnings.filterwarnings('ignore')\n",
    "\n",
    "# Input data files are available in the read-only \"../input/\" directory\n",
    "# For example, running this (by clicking run or pressing Shift+Enter) will list all files under the input directory\n",
    "\n",
    "import os\n",
    "for dirname, _, filenames in os.walk('/kaggle/input'):\n",
    "    for filename in filenames:\n",
    "        print(os.path.join(dirname, filename))\n",
    "\n",
    "# You can write up to 20GB to the current directory (/kaggle/working/) that gets preserved as output when you create a version using \"Save & Run All\" \n",
    "# You can also write temporary files to /kaggle/temp/, but they won't be saved outside of the current session"
   ]
  },
  {
   "cell_type": "code",
   "execution_count": 2,
   "id": "6bb9728c",
   "metadata": {
    "execution": {
     "iopub.execute_input": "2025-03-22T11:02:16.133411Z",
     "iopub.status.busy": "2025-03-22T11:02:16.132748Z",
     "iopub.status.idle": "2025-03-22T11:02:19.238140Z",
     "shell.execute_reply": "2025-03-22T11:02:19.236575Z"
    },
    "papermill": {
     "duration": 3.114918,
     "end_time": "2025-03-22T11:02:19.240903",
     "exception": false,
     "start_time": "2025-03-22T11:02:16.125985",
     "status": "completed"
    },
    "tags": []
   },
   "outputs": [],
   "source": [
    "cab_rides = pd.read_csv(\"/kaggle/input/uber-lyft-cab-prices/cab_rides.csv\")\n",
    "weather = pd.read_csv(\"/kaggle/input/uber-lyft-cab-prices/weather.csv\")"
   ]
  },
  {
   "cell_type": "code",
   "execution_count": 3,
   "id": "de802668",
   "metadata": {
    "execution": {
     "iopub.execute_input": "2025-03-22T11:02:19.252828Z",
     "iopub.status.busy": "2025-03-22T11:02:19.252432Z",
     "iopub.status.idle": "2025-03-22T11:02:19.287546Z",
     "shell.execute_reply": "2025-03-22T11:02:19.286122Z"
    },
    "papermill": {
     "duration": 0.043908,
     "end_time": "2025-03-22T11:02:19.290033",
     "exception": false,
     "start_time": "2025-03-22T11:02:19.246125",
     "status": "completed"
    },
    "tags": []
   },
   "outputs": [
    {
     "name": "stdout",
     "output_type": "stream",
     "text": [
      "<class 'pandas.core.frame.DataFrame'>\n",
      "RangeIndex: 6276 entries, 0 to 6275\n",
      "Data columns (total 8 columns):\n",
      " #   Column      Non-Null Count  Dtype  \n",
      "---  ------      --------------  -----  \n",
      " 0   temp        6276 non-null   float64\n",
      " 1   location    6276 non-null   object \n",
      " 2   clouds      6276 non-null   float64\n",
      " 3   pressure    6276 non-null   float64\n",
      " 4   rain        894 non-null    float64\n",
      " 5   time_stamp  6276 non-null   int64  \n",
      " 6   humidity    6276 non-null   float64\n",
      " 7   wind        6276 non-null   float64\n",
      "dtypes: float64(6), int64(1), object(1)\n",
      "memory usage: 392.4+ KB\n"
     ]
    }
   ],
   "source": [
    "weather.info()"
   ]
  },
  {
   "cell_type": "code",
   "execution_count": 4,
   "id": "2a32ae0f",
   "metadata": {
    "execution": {
     "iopub.execute_input": "2025-03-22T11:02:19.301915Z",
     "iopub.status.busy": "2025-03-22T11:02:19.301474Z",
     "iopub.status.idle": "2025-03-22T11:02:19.374961Z",
     "shell.execute_reply": "2025-03-22T11:02:19.373798Z"
    },
    "papermill": {
     "duration": 0.082387,
     "end_time": "2025-03-22T11:02:19.377517",
     "exception": false,
     "start_time": "2025-03-22T11:02:19.295130",
     "status": "completed"
    },
    "tags": []
   },
   "outputs": [],
   "source": [
    "# convert time features\n",
    "cab_rides[\"datetime\"] = pd.to_datetime(cab_rides[\"time_stamp\"], unit='ms')\n",
    "weather[\"datetime\"] = pd.to_datetime(weather[\"time_stamp\"], unit='s')"
   ]
  },
  {
   "cell_type": "code",
   "execution_count": 5,
   "id": "16f050f4",
   "metadata": {
    "execution": {
     "iopub.execute_input": "2025-03-22T11:02:19.390124Z",
     "iopub.status.busy": "2025-03-22T11:02:19.389214Z",
     "iopub.status.idle": "2025-03-22T11:02:19.442581Z",
     "shell.execute_reply": "2025-03-22T11:02:19.441287Z"
    },
    "papermill": {
     "duration": 0.062599,
     "end_time": "2025-03-22T11:02:19.445069",
     "exception": false,
     "start_time": "2025-03-22T11:02:19.382470",
     "status": "completed"
    },
    "tags": []
   },
   "outputs": [
    {
     "data": {
      "text/html": [
       "<div>\n",
       "<style scoped>\n",
       "    .dataframe tbody tr th:only-of-type {\n",
       "        vertical-align: middle;\n",
       "    }\n",
       "\n",
       "    .dataframe tbody tr th {\n",
       "        vertical-align: top;\n",
       "    }\n",
       "\n",
       "    .dataframe thead th {\n",
       "        text-align: right;\n",
       "    }\n",
       "</style>\n",
       "<table border=\"1\" class=\"dataframe\">\n",
       "  <thead>\n",
       "    <tr style=\"text-align: right;\">\n",
       "      <th></th>\n",
       "      <th>distance</th>\n",
       "      <th>cab_type</th>\n",
       "      <th>time_stamp</th>\n",
       "      <th>destination</th>\n",
       "      <th>source</th>\n",
       "      <th>price</th>\n",
       "      <th>surge_multiplier</th>\n",
       "      <th>id</th>\n",
       "      <th>product_id</th>\n",
       "      <th>name</th>\n",
       "      <th>datetime</th>\n",
       "    </tr>\n",
       "  </thead>\n",
       "  <tbody>\n",
       "    <tr>\n",
       "      <th>55406</th>\n",
       "      <td>2.15</td>\n",
       "      <td>Lyft</td>\n",
       "      <td>1543517284610</td>\n",
       "      <td>South Station</td>\n",
       "      <td>North Station</td>\n",
       "      <td>27.5</td>\n",
       "      <td>1.0</td>\n",
       "      <td>7766d810-e959-44fc-a932-35c87e773d5f</td>\n",
       "      <td>lyft_luxsuv</td>\n",
       "      <td>Lux Black XL</td>\n",
       "      <td>2018-11-29 18:48:04.610</td>\n",
       "    </tr>\n",
       "    <tr>\n",
       "      <th>156546</th>\n",
       "      <td>2.12</td>\n",
       "      <td>Uber</td>\n",
       "      <td>1544723110642</td>\n",
       "      <td>South Station</td>\n",
       "      <td>North Station</td>\n",
       "      <td>8.5</td>\n",
       "      <td>1.0</td>\n",
       "      <td>d89cfc7e-f44d-4acd-aa6a-f2f281208fc2</td>\n",
       "      <td>55c66225-fbe7-4fd5-9072-eab1ece5e23e</td>\n",
       "      <td>UberX</td>\n",
       "      <td>2018-12-13 17:45:10.642</td>\n",
       "    </tr>\n",
       "    <tr>\n",
       "      <th>158083</th>\n",
       "      <td>1.16</td>\n",
       "      <td>Uber</td>\n",
       "      <td>1543586581243</td>\n",
       "      <td>Theatre District</td>\n",
       "      <td>Haymarket Square</td>\n",
       "      <td>17.0</td>\n",
       "      <td>1.0</td>\n",
       "      <td>e7877dfa-3eed-4ae8-b641-019ba56baf36</td>\n",
       "      <td>6c84fd89-3f11-4782-9b50-97c468b19529</td>\n",
       "      <td>Black</td>\n",
       "      <td>2018-11-30 14:03:01.243</td>\n",
       "    </tr>\n",
       "  </tbody>\n",
       "</table>\n",
       "</div>"
      ],
      "text/plain": [
       "        distance cab_type     time_stamp       destination            source  \\\n",
       "55406       2.15     Lyft  1543517284610     South Station     North Station   \n",
       "156546      2.12     Uber  1544723110642     South Station     North Station   \n",
       "158083      1.16     Uber  1543586581243  Theatre District  Haymarket Square   \n",
       "\n",
       "        price  surge_multiplier                                    id  \\\n",
       "55406    27.5               1.0  7766d810-e959-44fc-a932-35c87e773d5f   \n",
       "156546    8.5               1.0  d89cfc7e-f44d-4acd-aa6a-f2f281208fc2   \n",
       "158083   17.0               1.0  e7877dfa-3eed-4ae8-b641-019ba56baf36   \n",
       "\n",
       "                                  product_id          name  \\\n",
       "55406                            lyft_luxsuv  Lux Black XL   \n",
       "156546  55c66225-fbe7-4fd5-9072-eab1ece5e23e         UberX   \n",
       "158083  6c84fd89-3f11-4782-9b50-97c468b19529         Black   \n",
       "\n",
       "                      datetime  \n",
       "55406  2018-11-29 18:48:04.610  \n",
       "156546 2018-12-13 17:45:10.642  \n",
       "158083 2018-11-30 14:03:01.243  "
      ]
     },
     "execution_count": 5,
     "metadata": {},
     "output_type": "execute_result"
    }
   ],
   "source": [
    "cab_rides.sample(3)"
   ]
  },
  {
   "cell_type": "code",
   "execution_count": 6,
   "id": "7ae421fa",
   "metadata": {
    "execution": {
     "iopub.execute_input": "2025-03-22T11:02:19.457262Z",
     "iopub.status.busy": "2025-03-22T11:02:19.456691Z",
     "iopub.status.idle": "2025-03-22T11:02:19.462915Z",
     "shell.execute_reply": "2025-03-22T11:02:19.461705Z"
    },
    "papermill": {
     "duration": 0.015043,
     "end_time": "2025-03-22T11:02:19.465371",
     "exception": false,
     "start_time": "2025-03-22T11:02:19.450328",
     "status": "completed"
    },
    "tags": []
   },
   "outputs": [],
   "source": [
    "# create date features\n",
    "def extract_date_features(data):\n",
    "    year = data.dt.year\n",
    "    month = data.dt.month\n",
    "    day = data.dt.day\n",
    "    day_name = data.dt.day_name()\n",
    "    hour = data.dt.hour\n",
    "    \n",
    "    return year, month, day, day_name, hour"
   ]
  },
  {
   "cell_type": "code",
   "execution_count": 7,
   "id": "c0f608ca",
   "metadata": {
    "execution": {
     "iopub.execute_input": "2025-03-22T11:02:19.477945Z",
     "iopub.status.busy": "2025-03-22T11:02:19.477545Z",
     "iopub.status.idle": "2025-03-22T11:02:19.818951Z",
     "shell.execute_reply": "2025-03-22T11:02:19.817336Z"
    },
    "papermill": {
     "duration": 0.350986,
     "end_time": "2025-03-22T11:02:19.821530",
     "exception": false,
     "start_time": "2025-03-22T11:02:19.470544",
     "status": "completed"
    },
    "tags": []
   },
   "outputs": [],
   "source": [
    "year, month, day, day_name, hour = extract_date_features(cab_rides[\"datetime\"])\n",
    "cab_rides[\"date\"] = weather[\"datetime\"].dt.date\n",
    "cab_rides[\"year\"] = year\n",
    "cab_rides[\"month\"] = month\n",
    "cab_rides[\"day_name\"] = day_name\n",
    "cab_rides[\"day\"] = day\n",
    "cab_rides[\"hour\"] = hour"
   ]
  },
  {
   "cell_type": "code",
   "execution_count": 8,
   "id": "7a31bed4",
   "metadata": {
    "execution": {
     "iopub.execute_input": "2025-03-22T11:02:19.833655Z",
     "iopub.status.busy": "2025-03-22T11:02:19.833246Z",
     "iopub.status.idle": "2025-03-22T11:02:22.350519Z",
     "shell.execute_reply": "2025-03-22T11:02:22.349177Z"
    },
    "papermill": {
     "duration": 2.526163,
     "end_time": "2025-03-22T11:02:22.352968",
     "exception": false,
     "start_time": "2025-03-22T11:02:19.826805",
     "status": "completed"
    },
    "tags": []
   },
   "outputs": [
    {
     "data": {
      "text/html": [
       "<iframe\n",
       "    scrolling=\"no\"\n",
       "    width=\"100%\"\n",
       "    height=\"545px\"\n",
       "    src=\"iframe_figures/figure_8.html\"\n",
       "    frameborder=\"0\"\n",
       "    allowfullscreen\n",
       "></iframe>\n"
      ]
     },
     "metadata": {},
     "output_type": "display_data"
    }
   ],
   "source": [
    "rides_per_type = cab_rides.groupby(\"cab_type\").count()[\"distance\"].reset_index()\n",
    "fig = px.pie(rides_per_type,\n",
    "            values=\"distance\")\n",
    "\n",
    "fig.show(renderer='iframe_connected')"
   ]
  },
  {
   "cell_type": "markdown",
   "id": "23069c0a",
   "metadata": {
    "papermill": {
     "duration": 0.005023,
     "end_time": "2025-03-22T11:02:22.363960",
     "exception": false,
     "start_time": "2025-03-22T11:02:22.358937",
     "status": "completed"
    },
    "tags": []
   },
   "source": [
    "# Pick-up Points"
   ]
  },
  {
   "cell_type": "code",
   "execution_count": 9,
   "id": "22adeb67",
   "metadata": {
    "execution": {
     "iopub.execute_input": "2025-03-22T11:02:22.377228Z",
     "iopub.status.busy": "2025-03-22T11:02:22.376737Z",
     "iopub.status.idle": "2025-03-22T11:02:22.820881Z",
     "shell.execute_reply": "2025-03-22T11:02:22.819638Z"
    },
    "papermill": {
     "duration": 0.453993,
     "end_time": "2025-03-22T11:02:22.823430",
     "exception": false,
     "start_time": "2025-03-22T11:02:22.369437",
     "status": "completed"
    },
    "tags": []
   },
   "outputs": [
    {
     "data": {
      "text/html": [
       "<iframe\n",
       "    scrolling=\"no\"\n",
       "    width=\"100%\"\n",
       "    height=\"545px\"\n",
       "    src=\"iframe_figures/figure_9.html\"\n",
       "    frameborder=\"0\"\n",
       "    allowfullscreen\n",
       "></iframe>\n"
      ]
     },
     "metadata": {},
     "output_type": "display_data"
    }
   ],
   "source": [
    "pick_up = cab_rides.groupby([\"source\", \"cab_type\"]).count()[\"distance\"].reset_index()\n",
    "pick_up.rename(columns={'distance':'pick-up count'}, inplace=True)\n",
    "fig = px.sunburst(pick_up, path=['cab_type', 'source'], values='pick-up count',\n",
    "                  color='cab_type')\n",
    "fig.show(renderer='iframe_connected')"
   ]
  },
  {
   "cell_type": "code",
   "execution_count": 10,
   "id": "aee56b78",
   "metadata": {
    "execution": {
     "iopub.execute_input": "2025-03-22T11:02:22.836454Z",
     "iopub.status.busy": "2025-03-22T11:02:22.836054Z",
     "iopub.status.idle": "2025-03-22T11:02:23.197731Z",
     "shell.execute_reply": "2025-03-22T11:02:23.196513Z"
    },
    "papermill": {
     "duration": 0.371126,
     "end_time": "2025-03-22T11:02:23.200247",
     "exception": false,
     "start_time": "2025-03-22T11:02:22.829121",
     "status": "completed"
    },
    "tags": []
   },
   "outputs": [
    {
     "data": {
      "text/html": [
       "<iframe\n",
       "    scrolling=\"no\"\n",
       "    width=\"100%\"\n",
       "    height=\"545px\"\n",
       "    src=\"iframe_figures/figure_10.html\"\n",
       "    frameborder=\"0\"\n",
       "    allowfullscreen\n",
       "></iframe>\n"
      ]
     },
     "metadata": {},
     "output_type": "display_data"
    }
   ],
   "source": [
    "dest = cab_rides.groupby([\"destination\", \"cab_type\"]).count()[\"distance\"].reset_index()\n",
    "dest.rename(columns={'distance':'des count'}, inplace=True)\n",
    "fig = px.sunburst(dest, path=['cab_type', 'destination'], values='des count',\n",
    "                  color='cab_type')\n",
    "fig.show(renderer='iframe_connected')"
   ]
  },
  {
   "cell_type": "code",
   "execution_count": 11,
   "id": "a925f259",
   "metadata": {
    "execution": {
     "iopub.execute_input": "2025-03-22T11:02:23.213774Z",
     "iopub.status.busy": "2025-03-22T11:02:23.212442Z",
     "iopub.status.idle": "2025-03-22T11:02:23.585132Z",
     "shell.execute_reply": "2025-03-22T11:02:23.583942Z"
    },
    "papermill": {
     "duration": 0.38232,
     "end_time": "2025-03-22T11:02:23.587920",
     "exception": false,
     "start_time": "2025-03-22T11:02:23.205600",
     "status": "completed"
    },
    "tags": []
   },
   "outputs": [],
   "source": [
    "cab_rides[\"routes\"] = cab_rides[\"source\"]+\" - \" +cab_rides[\"destination\"]\n",
    "routes = cab_rides.groupby([\"routes\", \"cab_type\" ]).agg({\n",
    "    \"price\":\"mean\",\n",
    "    \"id\":\"count\",\n",
    "}).reset_index()\n",
    "routes.rename(columns={\"id\":\"ride_count\"}, inplace=True)"
   ]
  },
  {
   "cell_type": "code",
   "execution_count": 12,
   "id": "9b27f32f",
   "metadata": {
    "execution": {
     "iopub.execute_input": "2025-03-22T11:02:23.601681Z",
     "iopub.status.busy": "2025-03-22T11:02:23.601312Z",
     "iopub.status.idle": "2025-03-22T11:02:23.868699Z",
     "shell.execute_reply": "2025-03-22T11:02:23.867490Z"
    },
    "papermill": {
     "duration": 0.276719,
     "end_time": "2025-03-22T11:02:23.871118",
     "exception": false,
     "start_time": "2025-03-22T11:02:23.594399",
     "status": "completed"
    },
    "tags": []
   },
   "outputs": [
    {
     "data": {
      "text/html": [
       "<iframe\n",
       "    scrolling=\"no\"\n",
       "    width=\"100%\"\n",
       "    height=\"545px\"\n",
       "    src=\"iframe_figures/figure_12.html\"\n",
       "    frameborder=\"0\"\n",
       "    allowfullscreen\n",
       "></iframe>\n"
      ]
     },
     "metadata": {},
     "output_type": "display_data"
    }
   ],
   "source": [
    "fig = px.scatter(routes,\n",
    "                x=\"ride_count\",\n",
    "                y=\"price\",\n",
    "                marginal_x='histogram',\n",
    "                marginal_y='box',\n",
    "                color=\"cab_type\").update_layout(template=\"plotly_white\")\n",
    "fig.show(renderer='iframe_connected')"
   ]
  },
  {
   "cell_type": "code",
   "execution_count": 13,
   "id": "b7455f6c",
   "metadata": {
    "execution": {
     "iopub.execute_input": "2025-03-22T11:02:23.883997Z",
     "iopub.status.busy": "2025-03-22T11:02:23.883555Z",
     "iopub.status.idle": "2025-03-22T11:02:23.928177Z",
     "shell.execute_reply": "2025-03-22T11:02:23.926700Z"
    },
    "papermill": {
     "duration": 0.053928,
     "end_time": "2025-03-22T11:02:23.930669",
     "exception": false,
     "start_time": "2025-03-22T11:02:23.876741",
     "status": "completed"
    },
    "tags": []
   },
   "outputs": [
    {
     "data": {
      "text/html": [
       "<div>\n",
       "<style scoped>\n",
       "    .dataframe tbody tr th:only-of-type {\n",
       "        vertical-align: middle;\n",
       "    }\n",
       "\n",
       "    .dataframe tbody tr th {\n",
       "        vertical-align: top;\n",
       "    }\n",
       "\n",
       "    .dataframe thead th {\n",
       "        text-align: right;\n",
       "    }\n",
       "</style>\n",
       "<table border=\"1\" class=\"dataframe\">\n",
       "  <thead>\n",
       "    <tr style=\"text-align: right;\">\n",
       "      <th></th>\n",
       "      <th>distance</th>\n",
       "      <th>cab_type</th>\n",
       "      <th>time_stamp</th>\n",
       "      <th>destination</th>\n",
       "      <th>source</th>\n",
       "      <th>price</th>\n",
       "      <th>surge_multiplier</th>\n",
       "      <th>id</th>\n",
       "      <th>product_id</th>\n",
       "      <th>name</th>\n",
       "      <th>datetime</th>\n",
       "      <th>date</th>\n",
       "      <th>year</th>\n",
       "      <th>month</th>\n",
       "      <th>day_name</th>\n",
       "      <th>day</th>\n",
       "      <th>hour</th>\n",
       "      <th>routes</th>\n",
       "    </tr>\n",
       "  </thead>\n",
       "  <tbody>\n",
       "    <tr>\n",
       "      <th>465521</th>\n",
       "      <td>2.61</td>\n",
       "      <td>Uber</td>\n",
       "      <td>1544855406783</td>\n",
       "      <td>Beacon Hill</td>\n",
       "      <td>Northeastern University</td>\n",
       "      <td>15.0</td>\n",
       "      <td>1.0</td>\n",
       "      <td>8a7a04da-5706-4aa6-b1a9-9ac269ebf218</td>\n",
       "      <td>6f72dfc5-27f1-42e8-84db-ccc7a75f6969</td>\n",
       "      <td>UberXL</td>\n",
       "      <td>2018-12-15 06:30:06.783</td>\n",
       "      <td>NaN</td>\n",
       "      <td>2018</td>\n",
       "      <td>12</td>\n",
       "      <td>Saturday</td>\n",
       "      <td>15</td>\n",
       "      <td>6</td>\n",
       "      <td>Northeastern University - Beacon Hill</td>\n",
       "    </tr>\n",
       "    <tr>\n",
       "      <th>471921</th>\n",
       "      <td>3.01</td>\n",
       "      <td>Uber</td>\n",
       "      <td>1543721585458</td>\n",
       "      <td>Boston University</td>\n",
       "      <td>North Station</td>\n",
       "      <td>11.0</td>\n",
       "      <td>1.0</td>\n",
       "      <td>57c63ce4-b64a-49a6-9f6c-7392359bbba7</td>\n",
       "      <td>55c66225-fbe7-4fd5-9072-eab1ece5e23e</td>\n",
       "      <td>UberX</td>\n",
       "      <td>2018-12-02 03:33:05.458</td>\n",
       "      <td>NaN</td>\n",
       "      <td>2018</td>\n",
       "      <td>12</td>\n",
       "      <td>Sunday</td>\n",
       "      <td>2</td>\n",
       "      <td>3</td>\n",
       "      <td>North Station - Boston University</td>\n",
       "    </tr>\n",
       "    <tr>\n",
       "      <th>194880</th>\n",
       "      <td>4.53</td>\n",
       "      <td>Lyft</td>\n",
       "      <td>1545059403753</td>\n",
       "      <td>Fenway</td>\n",
       "      <td>Financial District</td>\n",
       "      <td>32.5</td>\n",
       "      <td>1.0</td>\n",
       "      <td>b83e54b6-154d-450f-81c7-ccffc888cb99</td>\n",
       "      <td>lyft_lux</td>\n",
       "      <td>Lux Black</td>\n",
       "      <td>2018-12-17 15:10:03.753</td>\n",
       "      <td>NaN</td>\n",
       "      <td>2018</td>\n",
       "      <td>12</td>\n",
       "      <td>Monday</td>\n",
       "      <td>17</td>\n",
       "      <td>15</td>\n",
       "      <td>Financial District - Fenway</td>\n",
       "    </tr>\n",
       "  </tbody>\n",
       "</table>\n",
       "</div>"
      ],
      "text/plain": [
       "        distance cab_type     time_stamp        destination  \\\n",
       "465521      2.61     Uber  1544855406783        Beacon Hill   \n",
       "471921      3.01     Uber  1543721585458  Boston University   \n",
       "194880      4.53     Lyft  1545059403753             Fenway   \n",
       "\n",
       "                         source  price  surge_multiplier  \\\n",
       "465521  Northeastern University   15.0               1.0   \n",
       "471921            North Station   11.0               1.0   \n",
       "194880       Financial District   32.5               1.0   \n",
       "\n",
       "                                          id  \\\n",
       "465521  8a7a04da-5706-4aa6-b1a9-9ac269ebf218   \n",
       "471921  57c63ce4-b64a-49a6-9f6c-7392359bbba7   \n",
       "194880  b83e54b6-154d-450f-81c7-ccffc888cb99   \n",
       "\n",
       "                                  product_id       name  \\\n",
       "465521  6f72dfc5-27f1-42e8-84db-ccc7a75f6969     UberXL   \n",
       "471921  55c66225-fbe7-4fd5-9072-eab1ece5e23e      UberX   \n",
       "194880                              lyft_lux  Lux Black   \n",
       "\n",
       "                      datetime date  year  month  day_name  day  hour  \\\n",
       "465521 2018-12-15 06:30:06.783  NaN  2018     12  Saturday   15     6   \n",
       "471921 2018-12-02 03:33:05.458  NaN  2018     12    Sunday    2     3   \n",
       "194880 2018-12-17 15:10:03.753  NaN  2018     12    Monday   17    15   \n",
       "\n",
       "                                       routes  \n",
       "465521  Northeastern University - Beacon Hill  \n",
       "471921      North Station - Boston University  \n",
       "194880            Financial District - Fenway  "
      ]
     },
     "execution_count": 13,
     "metadata": {},
     "output_type": "execute_result"
    }
   ],
   "source": [
    "cab_rides.sample(3)"
   ]
  },
  {
   "cell_type": "code",
   "execution_count": 14,
   "id": "ec649bea",
   "metadata": {
    "execution": {
     "iopub.execute_input": "2025-03-22T11:02:23.945333Z",
     "iopub.status.busy": "2025-03-22T11:02:23.944113Z",
     "iopub.status.idle": "2025-03-22T11:02:24.116332Z",
     "shell.execute_reply": "2025-03-22T11:02:24.114971Z"
    },
    "papermill": {
     "duration": 0.181936,
     "end_time": "2025-03-22T11:02:24.118851",
     "exception": false,
     "start_time": "2025-03-22T11:02:23.936915",
     "status": "completed"
    },
    "tags": []
   },
   "outputs": [
    {
     "data": {
      "text/html": [
       "<div>\n",
       "<style scoped>\n",
       "    .dataframe tbody tr th:only-of-type {\n",
       "        vertical-align: middle;\n",
       "    }\n",
       "\n",
       "    .dataframe tbody tr th {\n",
       "        vertical-align: top;\n",
       "    }\n",
       "\n",
       "    .dataframe thead th {\n",
       "        text-align: right;\n",
       "    }\n",
       "</style>\n",
       "<table border=\"1\" class=\"dataframe\">\n",
       "  <thead>\n",
       "    <tr style=\"text-align: right;\">\n",
       "      <th></th>\n",
       "      <th>day</th>\n",
       "      <th>day_name</th>\n",
       "      <th>hour</th>\n",
       "      <th>surge_multiplier</th>\n",
       "      <th>id</th>\n",
       "      <th>distance</th>\n",
       "      <th>price</th>\n",
       "    </tr>\n",
       "  </thead>\n",
       "  <tbody>\n",
       "    <tr>\n",
       "      <th>0</th>\n",
       "      <td>1</td>\n",
       "      <td>Saturday</td>\n",
       "      <td>0</td>\n",
       "      <td>1.00</td>\n",
       "      <td>1818</td>\n",
       "      <td>2.153174</td>\n",
       "      <td>16.129177</td>\n",
       "    </tr>\n",
       "    <tr>\n",
       "      <th>1</th>\n",
       "      <td>1</td>\n",
       "      <td>Saturday</td>\n",
       "      <td>0</td>\n",
       "      <td>1.25</td>\n",
       "      <td>34</td>\n",
       "      <td>2.210294</td>\n",
       "      <td>22.955882</td>\n",
       "    </tr>\n",
       "    <tr>\n",
       "      <th>2</th>\n",
       "      <td>1</td>\n",
       "      <td>Saturday</td>\n",
       "      <td>0</td>\n",
       "      <td>1.50</td>\n",
       "      <td>6</td>\n",
       "      <td>1.803333</td>\n",
       "      <td>22.500000</td>\n",
       "    </tr>\n",
       "    <tr>\n",
       "      <th>3</th>\n",
       "      <td>1</td>\n",
       "      <td>Saturday</td>\n",
       "      <td>0</td>\n",
       "      <td>1.75</td>\n",
       "      <td>14</td>\n",
       "      <td>1.780000</td>\n",
       "      <td>28.392857</td>\n",
       "    </tr>\n",
       "    <tr>\n",
       "      <th>4</th>\n",
       "      <td>1</td>\n",
       "      <td>Saturday</td>\n",
       "      <td>1</td>\n",
       "      <td>1.00</td>\n",
       "      <td>1835</td>\n",
       "      <td>2.174005</td>\n",
       "      <td>16.413834</td>\n",
       "    </tr>\n",
       "    <tr>\n",
       "      <th>...</th>\n",
       "      <td>...</td>\n",
       "      <td>...</td>\n",
       "      <td>...</td>\n",
       "      <td>...</td>\n",
       "      <td>...</td>\n",
       "      <td>...</td>\n",
       "      <td>...</td>\n",
       "    </tr>\n",
       "    <tr>\n",
       "      <th>1726</th>\n",
       "      <td>30</td>\n",
       "      <td>Friday</td>\n",
       "      <td>23</td>\n",
       "      <td>1.00</td>\n",
       "      <td>1825</td>\n",
       "      <td>2.103244</td>\n",
       "      <td>15.921241</td>\n",
       "    </tr>\n",
       "    <tr>\n",
       "      <th>1727</th>\n",
       "      <td>30</td>\n",
       "      <td>Friday</td>\n",
       "      <td>23</td>\n",
       "      <td>1.25</td>\n",
       "      <td>27</td>\n",
       "      <td>2.764074</td>\n",
       "      <td>23.370370</td>\n",
       "    </tr>\n",
       "    <tr>\n",
       "      <th>1728</th>\n",
       "      <td>30</td>\n",
       "      <td>Friday</td>\n",
       "      <td>23</td>\n",
       "      <td>1.50</td>\n",
       "      <td>10</td>\n",
       "      <td>2.310000</td>\n",
       "      <td>29.150000</td>\n",
       "    </tr>\n",
       "    <tr>\n",
       "      <th>1729</th>\n",
       "      <td>30</td>\n",
       "      <td>Friday</td>\n",
       "      <td>23</td>\n",
       "      <td>1.75</td>\n",
       "      <td>6</td>\n",
       "      <td>2.150000</td>\n",
       "      <td>27.416667</td>\n",
       "    </tr>\n",
       "    <tr>\n",
       "      <th>1730</th>\n",
       "      <td>30</td>\n",
       "      <td>Friday</td>\n",
       "      <td>23</td>\n",
       "      <td>2.00</td>\n",
       "      <td>4</td>\n",
       "      <td>2.602500</td>\n",
       "      <td>39.625000</td>\n",
       "    </tr>\n",
       "  </tbody>\n",
       "</table>\n",
       "<p>1731 rows × 7 columns</p>\n",
       "</div>"
      ],
      "text/plain": [
       "      day  day_name  hour  surge_multiplier    id  distance      price\n",
       "0       1  Saturday     0              1.00  1818  2.153174  16.129177\n",
       "1       1  Saturday     0              1.25    34  2.210294  22.955882\n",
       "2       1  Saturday     0              1.50     6  1.803333  22.500000\n",
       "3       1  Saturday     0              1.75    14  1.780000  28.392857\n",
       "4       1  Saturday     1              1.00  1835  2.174005  16.413834\n",
       "...   ...       ...   ...               ...   ...       ...        ...\n",
       "1726   30    Friday    23              1.00  1825  2.103244  15.921241\n",
       "1727   30    Friday    23              1.25    27  2.764074  23.370370\n",
       "1728   30    Friday    23              1.50    10  2.310000  29.150000\n",
       "1729   30    Friday    23              1.75     6  2.150000  27.416667\n",
       "1730   30    Friday    23              2.00     4  2.602500  39.625000\n",
       "\n",
       "[1731 rows x 7 columns]"
      ]
     },
     "execution_count": 14,
     "metadata": {},
     "output_type": "execute_result"
    }
   ],
   "source": [
    "monthly_avg_rides = cab_rides.groupby([\"day\", \"day_name\", \"hour\",\"surge_multiplier\"]).agg({\n",
    "    \"id\":\"count\",\n",
    "    \"distance\":\"mean\",\n",
    "    \"price\":\"mean\"\n",
    "}).reset_index()\n",
    "monthly_avg_rides"
   ]
  },
  {
   "cell_type": "code",
   "execution_count": 15,
   "id": "366b5381",
   "metadata": {
    "execution": {
     "iopub.execute_input": "2025-03-22T11:02:24.133539Z",
     "iopub.status.busy": "2025-03-22T11:02:24.133051Z",
     "iopub.status.idle": "2025-03-22T11:02:24.161271Z",
     "shell.execute_reply": "2025-03-22T11:02:24.159958Z"
    },
    "papermill": {
     "duration": 0.038684,
     "end_time": "2025-03-22T11:02:24.164002",
     "exception": false,
     "start_time": "2025-03-22T11:02:24.125318",
     "status": "completed"
    },
    "tags": []
   },
   "outputs": [
    {
     "data": {
      "text/html": [
       "<div>\n",
       "<style scoped>\n",
       "    .dataframe tbody tr th:only-of-type {\n",
       "        vertical-align: middle;\n",
       "    }\n",
       "\n",
       "    .dataframe tbody tr th {\n",
       "        vertical-align: top;\n",
       "    }\n",
       "\n",
       "    .dataframe thead th {\n",
       "        text-align: right;\n",
       "    }\n",
       "</style>\n",
       "<table border=\"1\" class=\"dataframe\">\n",
       "  <thead>\n",
       "    <tr style=\"text-align: right;\">\n",
       "      <th></th>\n",
       "      <th>day_name</th>\n",
       "      <th>hour</th>\n",
       "      <th>surge_multiplier</th>\n",
       "      <th>ride_count</th>\n",
       "      <th>distance</th>\n",
       "      <th>price</th>\n",
       "    </tr>\n",
       "  </thead>\n",
       "  <tbody>\n",
       "    <tr>\n",
       "      <th>0</th>\n",
       "      <td>Friday</td>\n",
       "      <td>0</td>\n",
       "      <td>1.00</td>\n",
       "      <td>1813.5</td>\n",
       "      <td>2.147132</td>\n",
       "      <td>15.926382</td>\n",
       "    </tr>\n",
       "    <tr>\n",
       "      <th>1</th>\n",
       "      <td>Friday</td>\n",
       "      <td>0</td>\n",
       "      <td>1.25</td>\n",
       "      <td>28.5</td>\n",
       "      <td>2.333426</td>\n",
       "      <td>24.241667</td>\n",
       "    </tr>\n",
       "    <tr>\n",
       "      <th>2</th>\n",
       "      <td>Friday</td>\n",
       "      <td>0</td>\n",
       "      <td>1.50</td>\n",
       "      <td>12.0</td>\n",
       "      <td>2.703333</td>\n",
       "      <td>26.354167</td>\n",
       "    </tr>\n",
       "    <tr>\n",
       "      <th>3</th>\n",
       "      <td>Friday</td>\n",
       "      <td>0</td>\n",
       "      <td>1.75</td>\n",
       "      <td>6.0</td>\n",
       "      <td>2.381111</td>\n",
       "      <td>32.416667</td>\n",
       "    </tr>\n",
       "    <tr>\n",
       "      <th>4</th>\n",
       "      <td>Friday</td>\n",
       "      <td>0</td>\n",
       "      <td>2.00</td>\n",
       "      <td>11.5</td>\n",
       "      <td>2.650437</td>\n",
       "      <td>42.283730</td>\n",
       "    </tr>\n",
       "  </tbody>\n",
       "</table>\n",
       "</div>"
      ],
      "text/plain": [
       "  day_name hour  surge_multiplier  ride_count  distance      price\n",
       "0   Friday    0              1.00      1813.5  2.147132  15.926382\n",
       "1   Friday    0              1.25        28.5  2.333426  24.241667\n",
       "2   Friday    0              1.50        12.0  2.703333  26.354167\n",
       "3   Friday    0              1.75         6.0  2.381111  32.416667\n",
       "4   Friday    0              2.00        11.5  2.650437  42.283730"
      ]
     },
     "execution_count": 15,
     "metadata": {},
     "output_type": "execute_result"
    }
   ],
   "source": [
    "daily_average_rides = monthly_avg_rides.groupby([\"day_name\", \"hour\",\"surge_multiplier\"]).agg({\n",
    "    \"id\":\"mean\",\n",
    "    \"distance\":\"mean\",\n",
    "    \"price\":\"mean\"\n",
    "}).reset_index()\n",
    "daily_average_rides.rename(columns={\"id\":\"ride_count\"}, inplace=True)\n",
    "daily_average_rides[\"hour\"] = daily_average_rides[\"hour\"].astype(str)\n",
    "# daily_average_rides = daily_average_rides.round(2)\n",
    "daily_average_rides.head()"
   ]
  },
  {
   "cell_type": "code",
   "execution_count": 16,
   "id": "c18c1533",
   "metadata": {
    "execution": {
     "iopub.execute_input": "2025-03-22T11:02:24.184914Z",
     "iopub.status.busy": "2025-03-22T11:02:24.183852Z",
     "iopub.status.idle": "2025-03-22T11:02:24.292373Z",
     "shell.execute_reply": "2025-03-22T11:02:24.291193Z"
    },
    "papermill": {
     "duration": 0.122884,
     "end_time": "2025-03-22T11:02:24.295183",
     "exception": false,
     "start_time": "2025-03-22T11:02:24.172299",
     "status": "completed"
    },
    "tags": []
   },
   "outputs": [
    {
     "data": {
      "text/html": [
       "<iframe\n",
       "    scrolling=\"no\"\n",
       "    width=\"100%\"\n",
       "    height=\"545px\"\n",
       "    src=\"iframe_figures/figure_16.html\"\n",
       "    frameborder=\"0\"\n",
       "    allowfullscreen\n",
       "></iframe>\n"
      ]
     },
     "metadata": {},
     "output_type": "display_data"
    }
   ],
   "source": [
    "surge_pivot = pd.pivot_table(daily_average_rides,\n",
    "                            values=\"surge_multiplier\",\n",
    "                            index=\"day_name\",\n",
    "                            columns=\"hour\")\n",
    "fig = px.imshow(surge_pivot, color_continuous_scale=\"RdBu_r\",text_auto=True)\n",
    "fig.show(renderer='iframe_connected')"
   ]
  },
  {
   "cell_type": "code",
   "execution_count": null,
   "id": "03596530",
   "metadata": {
    "papermill": {
     "duration": 0.006942,
     "end_time": "2025-03-22T11:02:24.309616",
     "exception": false,
     "start_time": "2025-03-22T11:02:24.302674",
     "status": "completed"
    },
    "tags": []
   },
   "outputs": [],
   "source": []
  },
  {
   "cell_type": "code",
   "execution_count": 17,
   "id": "8c8e6e5e",
   "metadata": {
    "execution": {
     "iopub.execute_input": "2025-03-22T11:02:24.324319Z",
     "iopub.status.busy": "2025-03-22T11:02:24.323768Z",
     "iopub.status.idle": "2025-03-22T11:02:24.407566Z",
     "shell.execute_reply": "2025-03-22T11:02:24.406410Z"
    },
    "papermill": {
     "duration": 0.093901,
     "end_time": "2025-03-22T11:02:24.409869",
     "exception": false,
     "start_time": "2025-03-22T11:02:24.315968",
     "status": "completed"
    },
    "tags": []
   },
   "outputs": [
    {
     "data": {
      "text/html": [
       "<iframe\n",
       "    scrolling=\"no\"\n",
       "    width=\"100%\"\n",
       "    height=\"545px\"\n",
       "    src=\"iframe_figures/figure_17.html\"\n",
       "    frameborder=\"0\"\n",
       "    allowfullscreen\n",
       "></iframe>\n"
      ]
     },
     "metadata": {},
     "output_type": "display_data"
    }
   ],
   "source": [
    "price_pivot = pd.pivot_table(daily_average_rides,\n",
    "                            values=\"price\",\n",
    "                            index=\"day_name\",\n",
    "                            columns=\"hour\")\n",
    "fig = px.imshow(price_pivot, color_continuous_scale=\"viridis\",text_auto=True).update_layout(template=\"plotly_white\")\n",
    "fig.show(renderer='iframe_connected')"
   ]
  },
  {
   "cell_type": "code",
   "execution_count": 18,
   "id": "24df9e0b",
   "metadata": {
    "execution": {
     "iopub.execute_input": "2025-03-22T11:02:24.429229Z",
     "iopub.status.busy": "2025-03-22T11:02:24.428649Z",
     "iopub.status.idle": "2025-03-22T11:02:24.499737Z",
     "shell.execute_reply": "2025-03-22T11:02:24.498554Z"
    },
    "papermill": {
     "duration": 0.082817,
     "end_time": "2025-03-22T11:02:24.501917",
     "exception": false,
     "start_time": "2025-03-22T11:02:24.419100",
     "status": "completed"
    },
    "tags": []
   },
   "outputs": [
    {
     "data": {
      "text/html": [
       "<iframe\n",
       "    scrolling=\"no\"\n",
       "    width=\"100%\"\n",
       "    height=\"545px\"\n",
       "    src=\"iframe_figures/figure_18.html\"\n",
       "    frameborder=\"0\"\n",
       "    allowfullscreen\n",
       "></iframe>\n"
      ]
     },
     "metadata": {},
     "output_type": "display_data"
    }
   ],
   "source": [
    "distance_pivot = pd.pivot_table(daily_average_rides,\n",
    "                            values=\"distance\",\n",
    "                            index=\"day_name\",\n",
    "                            columns=\"hour\")\n",
    "fig = px.imshow(distance_pivot, color_continuous_scale=\"viridis\",text_auto=True).update_layout(template=\"plotly_white\")\n",
    "fig.show(renderer='iframe_connected')"
   ]
  },
  {
   "cell_type": "code",
   "execution_count": 19,
   "id": "47be7f8e",
   "metadata": {
    "execution": {
     "iopub.execute_input": "2025-03-22T11:02:24.516619Z",
     "iopub.status.busy": "2025-03-22T11:02:24.516228Z",
     "iopub.status.idle": "2025-03-22T11:02:24.590243Z",
     "shell.execute_reply": "2025-03-22T11:02:24.589054Z"
    },
    "papermill": {
     "duration": 0.084785,
     "end_time": "2025-03-22T11:02:24.593339",
     "exception": false,
     "start_time": "2025-03-22T11:02:24.508554",
     "status": "completed"
    },
    "tags": []
   },
   "outputs": [
    {
     "data": {
      "text/html": [
       "<iframe\n",
       "    scrolling=\"no\"\n",
       "    width=\"100%\"\n",
       "    height=\"545px\"\n",
       "    src=\"iframe_figures/figure_19.html\"\n",
       "    frameborder=\"0\"\n",
       "    allowfullscreen\n",
       "></iframe>\n"
      ]
     },
     "metadata": {},
     "output_type": "display_data"
    }
   ],
   "source": [
    "ride_pivot = pd.pivot_table(daily_average_rides,\n",
    "                            values=\"ride_count\",\n",
    "                            index=\"day_name\",\n",
    "                            columns=\"hour\")\n",
    "# lineplot version\n",
    "# fig = px.line(daily_average_rides,\n",
    "#              x=\"hour\",\n",
    "#              y=\"ride_count\",\n",
    "#              color=\"day_name\").update_layout(template=\"plotly_white\")\n",
    "fig = px.imshow(ride_pivot, color_continuous_scale=\"viridis\",text_auto=True).update_layout(template=\"plotly_white\")\n",
    "fig.show(renderer='iframe_connected')"
   ]
  },
  {
   "cell_type": "code",
   "execution_count": null,
   "id": "7240c803",
   "metadata": {
    "papermill": {
     "duration": 0.007788,
     "end_time": "2025-03-22T11:02:24.613940",
     "exception": false,
     "start_time": "2025-03-22T11:02:24.606152",
     "status": "completed"
    },
    "tags": []
   },
   "outputs": [],
   "source": []
  }
 ],
 "metadata": {
  "kaggle": {
   "accelerator": "none",
   "dataSources": [
    {
     "datasetId": 195655,
     "sourceId": 514498,
     "sourceType": "datasetVersion"
    }
   ],
   "dockerImageVersionId": 30761,
   "isGpuEnabled": false,
   "isInternetEnabled": true,
   "language": "python",
   "sourceType": "notebook"
  },
  "kernelspec": {
   "display_name": "Python 3",
   "language": "python",
   "name": "python3"
  },
  "language_info": {
   "codemirror_mode": {
    "name": "ipython",
    "version": 3
   },
   "file_extension": ".py",
   "mimetype": "text/x-python",
   "name": "python",
   "nbconvert_exporter": "python",
   "pygments_lexer": "ipython3",
   "version": "3.10.14"
  },
  "papermill": {
   "default_parameters": {},
   "duration": 14.692639,
   "end_time": "2025-03-22T11:02:25.344063",
   "environment_variables": {},
   "exception": null,
   "input_path": "__notebook__.ipynb",
   "output_path": "__notebook__.ipynb",
   "parameters": {},
   "start_time": "2025-03-22T11:02:10.651424",
   "version": "2.6.0"
  }
 },
 "nbformat": 4,
 "nbformat_minor": 5
}
